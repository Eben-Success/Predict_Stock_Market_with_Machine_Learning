{
 "cells": [
  {
   "cell_type": "code",
   "execution_count": 4,
   "metadata": {},
   "outputs": [],
   "source": [
    "import yfinance as yf"
   ]
  },
  {
   "cell_type": "code",
   "execution_count": 7,
   "metadata": {},
   "outputs": [],
   "source": [
    "sp500 = yf.Ticker(\"^GSPC\")"
   ]
  },
  {
   "cell_type": "code",
   "execution_count": 8,
   "metadata": {},
   "outputs": [],
   "source": [
    "sp500 = sp500.history(period=\"max\")"
   ]
  },
  {
   "cell_type": "code",
   "execution_count": 9,
   "metadata": {},
   "outputs": [
    {
     "data": {
      "text/html": [
       "<div>\n",
       "<style scoped>\n",
       "    .dataframe tbody tr th:only-of-type {\n",
       "        vertical-align: middle;\n",
       "    }\n",
       "\n",
       "    .dataframe tbody tr th {\n",
       "        vertical-align: top;\n",
       "    }\n",
       "\n",
       "    .dataframe thead th {\n",
       "        text-align: right;\n",
       "    }\n",
       "</style>\n",
       "<table border=\"1\" class=\"dataframe\">\n",
       "  <thead>\n",
       "    <tr style=\"text-align: right;\">\n",
       "      <th></th>\n",
       "      <th>Open</th>\n",
       "      <th>High</th>\n",
       "      <th>Low</th>\n",
       "      <th>Close</th>\n",
       "      <th>Volume</th>\n",
       "      <th>Dividends</th>\n",
       "      <th>Stock Splits</th>\n",
       "    </tr>\n",
       "    <tr>\n",
       "      <th>Date</th>\n",
       "      <th></th>\n",
       "      <th></th>\n",
       "      <th></th>\n",
       "      <th></th>\n",
       "      <th></th>\n",
       "      <th></th>\n",
       "      <th></th>\n",
       "    </tr>\n",
       "  </thead>\n",
       "  <tbody>\n",
       "    <tr>\n",
       "      <th>1950-01-03</th>\n",
       "      <td>16.660000</td>\n",
       "      <td>16.660000</td>\n",
       "      <td>16.660000</td>\n",
       "      <td>16.660000</td>\n",
       "      <td>1260000</td>\n",
       "      <td>0</td>\n",
       "      <td>0</td>\n",
       "    </tr>\n",
       "    <tr>\n",
       "      <th>1950-01-04</th>\n",
       "      <td>16.850000</td>\n",
       "      <td>16.850000</td>\n",
       "      <td>16.850000</td>\n",
       "      <td>16.850000</td>\n",
       "      <td>1890000</td>\n",
       "      <td>0</td>\n",
       "      <td>0</td>\n",
       "    </tr>\n",
       "    <tr>\n",
       "      <th>1950-01-05</th>\n",
       "      <td>16.930000</td>\n",
       "      <td>16.930000</td>\n",
       "      <td>16.930000</td>\n",
       "      <td>16.930000</td>\n",
       "      <td>2550000</td>\n",
       "      <td>0</td>\n",
       "      <td>0</td>\n",
       "    </tr>\n",
       "    <tr>\n",
       "      <th>1950-01-06</th>\n",
       "      <td>16.980000</td>\n",
       "      <td>16.980000</td>\n",
       "      <td>16.980000</td>\n",
       "      <td>16.980000</td>\n",
       "      <td>2010000</td>\n",
       "      <td>0</td>\n",
       "      <td>0</td>\n",
       "    </tr>\n",
       "    <tr>\n",
       "      <th>1950-01-09</th>\n",
       "      <td>17.080000</td>\n",
       "      <td>17.080000</td>\n",
       "      <td>17.080000</td>\n",
       "      <td>17.080000</td>\n",
       "      <td>2520000</td>\n",
       "      <td>0</td>\n",
       "      <td>0</td>\n",
       "    </tr>\n",
       "    <tr>\n",
       "      <th>...</th>\n",
       "      <td>...</td>\n",
       "      <td>...</td>\n",
       "      <td>...</td>\n",
       "      <td>...</td>\n",
       "      <td>...</td>\n",
       "      <td>...</td>\n",
       "      <td>...</td>\n",
       "    </tr>\n",
       "    <tr>\n",
       "      <th>2022-09-02</th>\n",
       "      <td>3994.659912</td>\n",
       "      <td>4018.429932</td>\n",
       "      <td>3906.209961</td>\n",
       "      <td>3924.260010</td>\n",
       "      <td>4134920000</td>\n",
       "      <td>0</td>\n",
       "      <td>0</td>\n",
       "    </tr>\n",
       "    <tr>\n",
       "      <th>2022-09-06</th>\n",
       "      <td>3930.889893</td>\n",
       "      <td>3942.550049</td>\n",
       "      <td>3886.750000</td>\n",
       "      <td>3908.189941</td>\n",
       "      <td>2209800080</td>\n",
       "      <td>0</td>\n",
       "      <td>0</td>\n",
       "    </tr>\n",
       "    <tr>\n",
       "      <th>2022-09-07</th>\n",
       "      <td>3909.429932</td>\n",
       "      <td>3987.889893</td>\n",
       "      <td>3906.030029</td>\n",
       "      <td>3979.870117</td>\n",
       "      <td>0</td>\n",
       "      <td>0</td>\n",
       "      <td>0</td>\n",
       "    </tr>\n",
       "    <tr>\n",
       "      <th>2022-09-08</th>\n",
       "      <td>3959.939941</td>\n",
       "      <td>4010.500000</td>\n",
       "      <td>3944.810059</td>\n",
       "      <td>4006.179932</td>\n",
       "      <td>0</td>\n",
       "      <td>0</td>\n",
       "      <td>0</td>\n",
       "    </tr>\n",
       "    <tr>\n",
       "      <th>2022-09-09</th>\n",
       "      <td>4022.939941</td>\n",
       "      <td>4076.810059</td>\n",
       "      <td>4022.939941</td>\n",
       "      <td>4067.360107</td>\n",
       "      <td>0</td>\n",
       "      <td>0</td>\n",
       "      <td>0</td>\n",
       "    </tr>\n",
       "  </tbody>\n",
       "</table>\n",
       "<p>18291 rows × 7 columns</p>\n",
       "</div>"
      ],
      "text/plain": [
       "                   Open         High          Low        Close      Volume  \\\n",
       "Date                                                                         \n",
       "1950-01-03    16.660000    16.660000    16.660000    16.660000     1260000   \n",
       "1950-01-04    16.850000    16.850000    16.850000    16.850000     1890000   \n",
       "1950-01-05    16.930000    16.930000    16.930000    16.930000     2550000   \n",
       "1950-01-06    16.980000    16.980000    16.980000    16.980000     2010000   \n",
       "1950-01-09    17.080000    17.080000    17.080000    17.080000     2520000   \n",
       "...                 ...          ...          ...          ...         ...   \n",
       "2022-09-02  3994.659912  4018.429932  3906.209961  3924.260010  4134920000   \n",
       "2022-09-06  3930.889893  3942.550049  3886.750000  3908.189941  2209800080   \n",
       "2022-09-07  3909.429932  3987.889893  3906.030029  3979.870117           0   \n",
       "2022-09-08  3959.939941  4010.500000  3944.810059  4006.179932           0   \n",
       "2022-09-09  4022.939941  4076.810059  4022.939941  4067.360107           0   \n",
       "\n",
       "            Dividends  Stock Splits  \n",
       "Date                                 \n",
       "1950-01-03          0             0  \n",
       "1950-01-04          0             0  \n",
       "1950-01-05          0             0  \n",
       "1950-01-06          0             0  \n",
       "1950-01-09          0             0  \n",
       "...               ...           ...  \n",
       "2022-09-02          0             0  \n",
       "2022-09-06          0             0  \n",
       "2022-09-07          0             0  \n",
       "2022-09-08          0             0  \n",
       "2022-09-09          0             0  \n",
       "\n",
       "[18291 rows x 7 columns]"
      ]
     },
     "execution_count": 9,
     "metadata": {},
     "output_type": "execute_result"
    }
   ],
   "source": [
    "sp500"
   ]
  },
  {
   "cell_type": "code",
   "execution_count": 10,
   "metadata": {},
   "outputs": [
    {
     "data": {
      "text/plain": [
       "DatetimeIndex(['1950-01-03', '1950-01-04', '1950-01-05', '1950-01-06',\n",
       "               '1950-01-09', '1950-01-10', '1950-01-11', '1950-01-12',\n",
       "               '1950-01-13', '1950-01-16',\n",
       "               ...\n",
       "               '2022-08-26', '2022-08-29', '2022-08-30', '2022-08-31',\n",
       "               '2022-09-01', '2022-09-02', '2022-09-06', '2022-09-07',\n",
       "               '2022-09-08', '2022-09-09'],\n",
       "              dtype='datetime64[ns]', name='Date', length=18291, freq=None)"
      ]
     },
     "execution_count": 10,
     "metadata": {},
     "output_type": "execute_result"
    }
   ],
   "source": [
    "sp500.index"
   ]
  },
  {
   "cell_type": "code",
   "execution_count": 11,
   "metadata": {},
   "outputs": [
    {
     "data": {
      "text/plain": [
       "<AxesSubplot:xlabel='Date'>"
      ]
     },
     "execution_count": 11,
     "metadata": {},
     "output_type": "execute_result"
    },
    {
     "data": {
      "image/png": "[encoded data removed]",
      "text/plain": [
       "<Figure size 432x288 with 1 Axes>"
      ]
     },
     "metadata": {
      "needs_background": "light"
     },
     "output_type": "display_data"
    }
   ],
   "source": [
    "sp500.plot.line(y=\"Close\", use_index=True)"
   ]
  },
  {
   "cell_type": "code",
   "execution_count": null,
   "metadata": {},
   "outputs": [],
   "source": []
  }
 ],
 "metadata": {
  "kernelspec": {
   "display_name": "Python 3.9.12 ('base')",
   "language": "python",
   "name": "python3"
  },
  "language_info": {
   "codemirror_mode": {
    "name": "ipython",
    "version": 3
   },
   "file_extension": ".py",
   "mimetype": "text/x-python",
   "name": "python",
   "nbconvert_exporter": "python",
   "pygments_lexer": "ipython3",
   "version": "3.9.12"
  },
  "orig_nbformat": 4,
  "vscode": {
   "interpreter": {
    "hash": "044bd8377869109dcb093f44f850f98d78c1f8adfffaaaa1f0128c3238e36a11"
   }
  }
 },
 "nbformat": 4,
 "nbformat_minor": 2
}
